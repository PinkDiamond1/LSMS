{
 "cells": [
  {
   "cell_type": "code",
   "execution_count": 23,
   "metadata": {},
   "outputs": [],
   "source": [
    "import numpy as np\n",
    "import matplotlib.pyplot as plt\n",
    "import pandas as pd\n",
    "\n",
    "plt.clf()\n",
    "df = pd.read_csv('/home/ananth/repo/lsms/outputs_v23_prod7_crop_sales/coef_crop_sales___output___ethiopia_2015.csv')\n",
    "# df = pd.read_csv('/home/ananth/repo/lsms/tanzania_v6_7_crop_sales/coef_crop_sales___output.csv')\n",
    "# df = pd.read_csv('/home/ananth/repo/lsms/uganda_v2_crop_sales/coef_crop_sales___output.csv')\n",
    "\n",
    "d=df.drop(['inputs', 'model', 'Unnamed: 0'], axis=1)\n"
   ]
  },
  {
   "cell_type": "code",
   "execution_count": 20,
   "metadata": {
    "collapsed": true
   },
   "outputs": [],
   "source": [
    "# Reset matplotlib defaults if plots are skewed after generating variations.pdf.\n",
    "%matplotlib inline\n",
    "import matplotlib as mpl\n",
    "import matplotlib.pyplot as plt\n",
    "mpl.rcParams.update(mpl.rcParamsDefault)"
   ]
  },
  {
   "cell_type": "code",
   "execution_count": 22,
   "metadata": {},
   "outputs": [
    {
     "name": "stdout",
     "output_type": "stream",
     "text": [
      "_attended_school -5.56532903935 3.16191144016 -5.51794930323 -0.0264045563414\n",
      "_children_education___output 0.154695178293 2.06709849161 -3.85302936903 -0.0054374523304\n",
      "_crop_diversification___policy -26.2689102911 10.6749901887 -15.1572713571 -0.102503971532\n",
      "_crop_sales___output 60.4887095239 13.9742175393 195.461461337 0.899747961336\n",
      "_distance_to_market 35.1895244486 -0.371912456694 -7.758934021 0.0901955932363\n",
      "_distance_to_road 109.499153626 -50.2007200494 16.473412567 0.25257282048\n",
      "_expenditure___output 8.33788140856 4.92849735662 65.9396419681 0.264020069111\n",
      "_has_bank_account___policy 54.4718509323 -22.3081683541 36.7941620561 0.229859482114\n",
      "_has_borrowed___policy -5.28033902213 45.4330572661 -5.34236036057 0.116034526278\n",
      "_has_hired_workers___policy 46.4517973034 10.9536386979 -1.99107474426 0.184714537524\n",
      "_has_medical_assistance___output -4.32491434677 -4.48818144111 -20.2799621085 -0.0969768596546\n",
      "_household_head_age -4.41153389536 5.55264601304 2.23388727077 0.0112499979615\n",
      "_household_head_is_divorced 400.903896919 -28.6947331122 -85.4600974578 0.955830221164\n",
      "_household_head_is_male -0.990352325983 15.6925067481 9.19721941469 0.079664579456\n",
      "_household_head_is_monogamous -18.2515484168 28.6994397357 1.31974238365 0.0392254456751\n",
      "_household_head_is_polygamous 2.65611703907 27.5744229601 93.7404716769 0.413236705587\n",
      "_household_head_is_separated 17.0764473285 -40.0522130372 -41.9953917919 -0.216570525002\n",
      "_household_head_is_widowed -14.3922358899 -34.1448569349 -52.2354324711 -0.335908417653\n",
      "_household_head_never_married 257.711589773 -53.9912461452 -100.0 0.345734478759\n",
      "_household_size -5.1975613174 20.03021566 53.4798266814 0.22770827008\n",
      "_land_surface -79.6726171921 808.529549198 353.51976674 3.60792232915\n",
      "_latitude 23.9828559829 -4.34938000152 -8.86768022197 0.0358859858647\n",
      "_literacy -3.86208805181 2.3431988206 -4.71027483538 -0.020763880222\n",
      "_lives_in_arusha 114.82670454 -31.4446310153 -41.0641480744 0.1410597515\n",
      "_lives_in_daressalaam 827.950424035 -81.9419855028 -50.0926811802 2.31971919117\n",
      "_lives_in_dodoma -76.4694414571 1351.77634278 2.52467146092 4.25943857593\n",
      "_lives_in_geita -29.9379852866 93.1393095339 42.1258771863 0.351090671445\n",
      "_lives_in_iringa 48.3664209577 5.7534375404 -71.3499608577 -0.0574336745318\n",
      "_lives_in_kagera -56.5195091781 -10.1434020263 -59.648456423 -0.421037892092\n",
      "_lives_in_kaskazinipemba -34.964197197 -83.9120466079 -43.0987488158 -0.539916642069\n",
      "_lives_in_kaskaziniunguja 979.778895946 -100.0 nan nan\n",
      "_lives_in_katavi 244.198824257 -63.2686737928 -38.2922442507 0.475459687378\n",
      "_lives_in_kigoma -8.62799022641 -83.6068865797 253.055464864 0.53606862686\n",
      "_lives_in_kilimanjaro -4.31528704237 -71.4822548422 -78.7221801196 -0.515065740014\n",
      "_lives_in_kusinipemba 238.45836512 -100.0 nan nan\n",
      "_lives_in_kusiniunguja 13.3129046371 -100.0 nan nan\n",
      "_lives_in_manyara -18.977756086 79.1055568844 28.0426346836 0.293901451607\n",
      "_lives_in_mara -75.6702062577 259.196802646 4.62632524115 0.62717640543\n",
      "_lives_in_mbeya 62.6321338606 -1.4158279904 5.97324120528 0.223965156918\n",
      "_lives_in_mjinimagharibi -40.5105249793 -100.0 nan nan\n",
      "_lives_in_morogoro 175.875850441 -76.3384882637 -5.99793256937 0.311798098693\n",
      "_lives_in_mtwara 69.0879969645 5.14431912895 -49.2546630264 0.0832588435569\n",
      "_lives_in_mwanza 1.23130400557 7.67324223277 47.2329883699 0.187125115361\n",
      "_lives_in_njombe 86.2278095646 -21.9971468539 -56.3149517058 0.0263857033496\n",
      "_lives_in_pwani 119.883688094 -22.5778007979 -72.4470626081 0.082862748961\n",
      "_lives_in_rukwa 32.9466811413 -35.9345345936 -51.2034285841 -0.180637606788\n",
      "_lives_in_ruvuma 18.2866459487 7.92253778239 -33.0076227044 -0.0226614632446\n",
      "_lives_in_shinyanga -37.2685868302 152.506745602 66.0868093797 0.604416560505\n",
      "_lives_in_simiyu 313.230074137 105.118816054 53.5085780217 1.57285822737\n",
      "_lives_in_singida -65.8679541308 216.057382351 107.89457414 0.860280007868\n",
      "_lives_in_tabora -28.4676195833 92.9604091264 72.7179689651 0.457369195027\n",
      "_lives_in_tanga -45.3735889943 21.365889858 -26.742101763 -0.169166002997\n",
      "_longitude 2.25997524142 -0.559415880578 -1.736307338 -0.000119159923872\n",
      "_months_hired_workers___policy -22.3918381398 30.1427556299 143.283243606 0.503447203655\n",
      "_nid -7.44851276506 4.89440242489 10.4055851184 0.026171582594\n",
      "_no_food_deficiency___output -0.534443313999 7.0808682672 12.1959843844 0.0624746977921\n",
      "_number_of_animals_owned___policy 684.719924053 -7.48706885257 105.576437623 2.60936430941\n",
      "_number_of_hired_workers___policy 8.46911585109 -5.10013842464 36.8951311305 0.13421369519\n",
      "_number_of_ploughs_owned___policy 3.90723146268 112.54420789 303.032667113 1.39828035489\n",
      "_owns_land_certificate___policy 62.2596662374 -20.0936477668 116.22861988 0.527982127835\n",
      "_productivity 361.259133227 -87.4197465758 -15.706264363 0.86044374096\n",
      "_quantity_of_fertilizers_used___policy 68.7746762299 46.9444688695 176.720880368 0.974800084892\n",
      "_quantity_of_pesticides_used___policy 4.20995432953 -12.003831625 40.74931933 0.109851473448\n",
      "_rural_household -13.9765200972 17.2389681972 1.21788546954 0.0149344452318\n",
      "_uses_credit___policy 44.1968863374 -1.17199322022 31.4600757111 0.248283229428\n",
      "_uses_irrigation___policy 49.4002968099 -64.536000349 59.8198930003 0.148947298204\n",
      "_weight 11.5148203654 -0.349635122705 1.03687278092 0.0406735267454\n",
      "_y4_hhid 4.03192615042 -2.97597977342 2.66547039753 0.0124047225818\n"
     ]
    },
    {
     "name": "stderr",
     "output_type": "stream",
     "text": [
      "/home/ananth/anaconda2/envs/py36/lib/python3.6/site-packages/ipykernel_launcher.py:19: RuntimeWarning: invalid value encountered in double_scalars\n",
      "/home/ananth/anaconda2/envs/py36/lib/python3.6/site-packages/ipykernel_launcher.py:20: RuntimeWarning: invalid value encountered in double_scalars\n"
     ]
    }
   ],
   "source": [
    "# df_avg = pd.read_csv('/home/ananth/repo/lsms/outputs_v23_prod7_crop_sales/crop_sales___output___ethiopia_2015_avg.csv')\n",
    "df_avg = pd.read_csv('/home/ananth/repo/lsms/tanzania_v6_7_crop_sales/crop_sales___output_avg.csv')\n",
    "# df_avg = pd.read_csv('/home/ananth/repo/lsms/uganda_v2_crop_sales/crop_sales___output_avg.csv')\n",
    "\n",
    "prefixes = ['25ile', 'stderr', 'stddev', '75ile', 'avg', 'mean']\n",
    "cols = {}\n",
    "for p in prefixes:\n",
    "    for col in df_avg.columns:\n",
    "        if p in col:\n",
    "            raw_col = col.replace(p, '')\n",
    "            if raw_col not in cols:\n",
    "                cols[raw_col] = {}\n",
    "            cols[raw_col][p] = df_avg[col].values\n",
    "\n",
    "for c, v in cols.items():\n",
    "    vals = v['mean']\n",
    "    change = 0\n",
    "    for i in range(len(vals) - 1):\n",
    "        change += (vals[i+1] - vals[i])/(vals[i])\n",
    "        cols[c]['variation_{0}'.format(i)] = (vals[i+1] - vals[i])/(vals[i])*100\n",
    "    cols[c]['variation'] = (change/3)\n",
    "    print (c, cols[c]['variation_0'], cols[c]['variation_1'], cols[c]['variation_2'], cols[c]['variation'])\n",
    "            \n",
    "for c, v in cols.items():\n",
    "    plt.clf()\n",
    "    x = [1,2,3,4]\n",
    "    plt.bar(x, v['mean'], width=0.35, color='b', yerr=v['stderr'])\n",
    "#     plt.ylabel(c.replace('___ethiopia_2015','').replace('___policy','').replace('___output','').replace('_', ' '))\n",
    "    plt.ylabel(c.replace('___tanzania_2014','').replace('___policy','').replace('___output','').replace('_', ' '))\n",
    "    plt.xticks([1,2,3,4], ['Cluster 1', 'Cluster 2', 'Cluster 3', 'Cluster 4'])\n",
    "    plt.savefig('tanzania_figs/' + c + '.png')"
   ]
  },
  {
   "cell_type": "code",
   "execution_count": 28,
   "metadata": {},
   "outputs": [],
   "source": [
    "plt.clf()\n",
    "fig, axs = plt.subplots(nrows=5, ncols=1, sharex=True, figsize=(10,15))\n",
    "ids = [[0,1,2], [11,3,4], [12,5,6], [13,7,8], [14,9,10]]\n",
    "titles = ['Population Level', 'Cluster 1', 'Cluster 2', 'Cluster 3', 'Cluster 4']\n",
    "for i, ix in enumerate(ids):\n",
    "    x = [t.replace('___policy___ethiopia_2015', '') for t in d.columns]\n",
    "#     x = [t.replace('___policy___tanzania_2014', '') for t in d.columns]\n",
    "    y = d.iloc[ix[0]]\n",
    "    xerr = [y - d.iloc[ix[1]], d.iloc[ix[2]] - y]\n",
    "    ax = axs[i]\n",
    "    ax.errorbar(y, x, xerr=xerr, fmt='o')\n",
    "    ax.set_title(titles[i])\n",
    "    ax.axvline(x=0, color='r', linestyle='dotted')\n",
    "# fig.suptitle('95% CI of regression coefficients')\n",
    "plt.tight_layout()\n",
    "# plt.show()\n",
    "plt.savefig('cluster_ethiopia_ols.pdf')"
   ]
  },
  {
   "cell_type": "code",
   "execution_count": 24,
   "metadata": {
    "collapsed": true
   },
   "outputs": [],
   "source": [
    "import pandas as pd\n",
    "import numpy as np\n",
    "import matplotlib.pyplot as plt\n",
    "df = pd.read_csv('./lift.csv')\n",
    "for feat in np.unique(df['feature']):\n",
    "    x = df[df['feature']==feat]\n",
    "    xticks = [t+1 for t in x['cluster']]\n",
    "    plt.clf()\n",
    "    plt.bar(xticks, x['lift'])\n",
    "    plt.xticks(xticks)\n",
    "    plt.axhline(y=1, label='average', color='r')\n",
    "    plt.ylabel('Lift factor')\n",
    "    plt.xlabel('Cluster number')\n",
    "    plt.title(feat.replace('___policy', '').replace('_', ' '))\n",
    "    plt.savefig('lift_{0}.png'.format(feat))"
   ]
  }
 ],
 "metadata": {
  "kernelspec": {
   "display_name": "Python 3",
   "language": "python",
   "name": "python3"
  },
  "language_info": {
   "codemirror_mode": {
    "name": "ipython",
    "version": 3
   },
   "file_extension": ".py",
   "mimetype": "text/x-python",
   "name": "python",
   "nbconvert_exporter": "python",
   "pygments_lexer": "ipython3",
   "version": "3.6.3"
  }
 },
 "nbformat": 4,
 "nbformat_minor": 2
}
